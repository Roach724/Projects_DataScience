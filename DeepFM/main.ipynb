{
 "metadata": {
  "language_info": {
   "codemirror_mode": {
    "name": "ipython",
    "version": 3
   },
   "file_extension": ".py",
   "mimetype": "text/x-python",
   "name": "python",
   "nbconvert_exporter": "python",
   "pygments_lexer": "ipython3",
   "version": "3.7.4-final"
  },
  "orig_nbformat": 2,
  "kernelspec": {
   "name": "python3",
   "display_name": "Python 3",
   "language": "python"
  }
 },
 "nbformat": 4,
 "nbformat_minor": 2,
 "cells": [
  {
   "cell_type": "code",
   "execution_count": 1,
   "metadata": {},
   "outputs": [],
   "source": [
    "import numpy as np\n",
    "import pandas as pd\n",
    "import tensorflow as tf\n",
    "import warnings\n",
    "import datetime\n",
    "import matplotlib.pyplot as plt\n",
    "import DeepFM_v2 as dfm\n",
    "import seaborn as sns\n",
    "from sklearn.model_selection import StratifiedKFold\n",
    "import io\n",
    "import os\n",
    "%matplotlib inline\n",
    "warnings.filterwarnings('ignore')"
   ]
  },
  {
   "cell_type": "code",
   "execution_count": 2,
   "metadata": {},
   "outputs": [],
   "source": [
    "profile=pd.read_csv('profile.csv')\n",
    "train=profile.loc[:,['label','id','item_tag']]\n",
    "train=train.dropna()\n",
    "y=train.pop('label')\n",
    "train=train.to_dict(orient='list')\n",
    "for key in train.keys():\n",
    "    train[key]=np.array(train[key])"
   ]
  },
  {
   "cell_type": "code",
   "execution_count": null,
   "metadata": {},
   "outputs": [],
   "source": [
    "model="
   ]
  },
  {
   "cell_type": "code",
   "execution_count": 6,
   "metadata": {},
   "outputs": [],
   "source": [
    "tag_weights=model.get_layer('tag_embedding').get_weights()[0]\n",
    "id_weights=model.get_layer('id_embedding').get_weights()[0]\n",
    "vocab=id_vectorize_layer.get_vocabulary()\n",
    "out_v=io.open('vectors.tsv','w',encoding='utf-8')\n",
    "out_m=io.open('metadata.tsv','w',encoding='utf-8')\n",
    "for index,word in enumerate(vocab):\n",
    "    if index==0:continue\n",
    "    vec=id_weights[index]\n",
    "    out_v.write('\\t'.join([str(x) for x in vec]) + \"\\n\")\n",
    "    out_m.write(word + \"\\n\")\n",
    "out_v.close()\n",
    "out_m.close()"
   ]
  },
  {
   "cell_type": "code",
   "execution_count": null,
   "metadata": {},
   "outputs": [],
   "source": []
  }
 ]
}