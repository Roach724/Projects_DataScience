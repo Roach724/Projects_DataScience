{
 "metadata": {
  "language_info": {
   "codemirror_mode": {
    "name": "ipython",
    "version": 3
   },
   "file_extension": ".py",
   "mimetype": "text/x-python",
   "name": "python",
   "nbconvert_exporter": "python",
   "pygments_lexer": "ipython3",
   "version": "3.8.7-final"
  },
  "orig_nbformat": 2,
  "kernelspec": {
   "name": "python3",
   "display_name": "Python 3.8.7 64-bit",
   "metadata": {
    "interpreter": {
     "hash": "004de6046f1b3d314f33fdb43a2dc798b2646e5600efd8df5066c8b63a00ff6d"
    }
   }
  }
 },
 "nbformat": 4,
 "nbformat_minor": 2,
 "cells": [
  {
   "cell_type": "code",
   "execution_count": 1,
   "metadata": {},
   "outputs": [],
   "source": [
    "import numpy as np\n",
    "import pandas as pd\n",
    "import tensorflow as tf\n",
    "import warnings\n",
    "import datetime\n",
    "import matplotlib.pyplot as plt\n",
    "import DeepFM_v2offline as dfm\n",
    "import seaborn as sns\n",
    "from sklearn.model_selection import StratifiedKFold\n",
    "%matplotlib inline\n",
    "warnings.filterwarnings('ignore')"
   ]
  },
  {
   "cell_type": "code",
   "execution_count": 2,
   "metadata": {},
   "outputs": [],
   "source": [
    "data=dfm.load_log_data()\n",
    "X,y=dfm.data_pipeline(data)"
   ]
  },
  {
   "cell_type": "code",
   "execution_count": 3,
   "metadata": {},
   "outputs": [],
   "source": [
    "data.to_csv('data.csv')"
   ]
  },
  {
   "cell_type": "code",
   "execution_count": null,
   "metadata": {},
   "outputs": [],
   "source": []
  },
  {
   "cell_type": "code",
   "execution_count": 7,
   "metadata": {},
   "outputs": [],
   "source": [
    "dfm.cross_validation(X,y,cv=3,n_splits=10)"
   ]
  },
  {
   "cell_type": "code",
   "execution_count": 5,
   "metadata": {},
   "outputs": [
    {
     "output_type": "stream",
     "name": "stdout",
     "text": [
      "Epoch 1/10\n",
      "198/198 [==============================] - 6s 22ms/step - loss: 4.2820 - auc_1: 0.6397 - recall_1: 0.1186 - val_loss: 0.5978 - val_auc_1: 0.6046 - val_recall_1: 0.1320\n",
      "WARNING:tensorflow:Early stopping conditioned on metric `val_auc` which is not available. Available metrics are: loss,auc_1,recall_1,val_loss,val_auc_1,val_recall_1\n",
      "Epoch 2/10\n",
      "198/198 [==============================] - 3s 18ms/step - loss: 0.4442 - auc_1: 0.8189 - recall_1: 0.3913 - val_loss: 0.6283 - val_auc_1: 0.6065 - val_recall_1: 0.1918\n",
      "WARNING:tensorflow:Early stopping conditioned on metric `val_auc` which is not available. Available metrics are: loss,auc_1,recall_1,val_loss,val_auc_1,val_recall_1\n",
      "Epoch 3/10\n",
      "198/198 [==============================] - 4s 19ms/step - loss: 0.3949 - auc_1: 0.8647 - recall_1: 0.4940 - val_loss: 0.6626 - val_auc_1: 0.6093 - val_recall_1: 0.2332\n",
      "WARNING:tensorflow:Early stopping conditioned on metric `val_auc` which is not available. Available metrics are: loss,auc_1,recall_1,val_loss,val_auc_1,val_recall_1\n",
      "Epoch 4/10\n",
      "198/198 [==============================] - 4s 19ms/step - loss: 0.3641 - auc_1: 0.8879 - recall_1: 0.5553 - val_loss: 0.6978 - val_auc_1: 0.6067 - val_recall_1: 0.2594\n",
      "WARNING:tensorflow:Early stopping conditioned on metric `val_auc` which is not available. Available metrics are: loss,auc_1,recall_1,val_loss,val_auc_1,val_recall_1\n",
      "Epoch 5/10\n",
      "198/198 [==============================] - 4s 19ms/step - loss: 0.3463 - auc_1: 0.8989 - recall_1: 0.5857 - val_loss: 0.7360 - val_auc_1: 0.6046 - val_recall_1: 0.2464\n",
      "WARNING:tensorflow:Early stopping conditioned on metric `val_auc` which is not available. Available metrics are: loss,auc_1,recall_1,val_loss,val_auc_1,val_recall_1\n",
      "Epoch 6/10\n",
      "198/198 [==============================] - 4s 19ms/step - loss: 0.3342 - auc_1: 0.9057 - recall_1: 0.6013 - val_loss: 0.7588 - val_auc_1: 0.6034 - val_recall_1: 0.2521\n",
      "WARNING:tensorflow:Early stopping conditioned on metric `val_auc` which is not available. Available metrics are: loss,auc_1,recall_1,val_loss,val_auc_1,val_recall_1\n",
      "Epoch 7/10\n",
      "198/198 [==============================] - 4s 19ms/step - loss: 0.3243 - auc_1: 0.9110 - recall_1: 0.6150 - val_loss: 0.7776 - val_auc_1: 0.6046 - val_recall_1: 0.2772\n",
      "WARNING:tensorflow:Early stopping conditioned on metric `val_auc` which is not available. Available metrics are: loss,auc_1,recall_1,val_loss,val_auc_1,val_recall_1\n",
      "Epoch 8/10\n",
      "198/198 [==============================] - 4s 19ms/step - loss: 0.3207 - auc_1: 0.9126 - recall_1: 0.6187 - val_loss: 0.8058 - val_auc_1: 0.6011 - val_recall_1: 0.2610\n",
      "WARNING:tensorflow:Early stopping conditioned on metric `val_auc` which is not available. Available metrics are: loss,auc_1,recall_1,val_loss,val_auc_1,val_recall_1\n",
      "Epoch 9/10\n",
      "198/198 [==============================] - 4s 20ms/step - loss: 0.3145 - auc_1: 0.9157 - recall_1: 0.6269 - val_loss: 0.8209 - val_auc_1: 0.6000 - val_recall_1: 0.2713\n",
      "WARNING:tensorflow:Early stopping conditioned on metric `val_auc` which is not available. Available metrics are: loss,auc_1,recall_1,val_loss,val_auc_1,val_recall_1\n",
      "Epoch 10/10\n",
      "198/198 [==============================] - 4s 19ms/step - loss: 0.3121 - auc_1: 0.9169 - recall_1: 0.6333 - val_loss: 0.8479 - val_auc_1: 0.5958 - val_recall_1: 0.2709\n",
      "WARNING:tensorflow:Early stopping conditioned on metric `val_auc` which is not available. Available metrics are: loss,auc_1,recall_1,val_loss,val_auc_1,val_recall_1\n"
     ]
    }
   ],
   "source": [
    "model=dfm.DeepFM()\n",
    "model.compile(optimizer=tf.keras.optimizers.Adam(0.01),loss=tf.keras.losses.BinaryCrossentropy(),metrics=[tf.keras.metrics.AUC(),tf.keras.metrics.Recall()])\n",
    "loss_history=model.fit(x=X_train,y=y_train,epochs=10,batch_size=2048)"
   ]
  },
  {
   "cell_type": "code",
   "execution_count": null,
   "metadata": {},
   "outputs": [],
   "source": []
  }
 ]
}