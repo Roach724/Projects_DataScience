{
 "metadata": {
  "language_info": {
   "codemirror_mode": {
    "name": "ipython",
    "version": 3
   },
   "file_extension": ".py",
   "mimetype": "text/x-python",
   "name": "python",
   "nbconvert_exporter": "python",
   "pygments_lexer": "ipython3",
   "version": "3.8.2"
  },
  "orig_nbformat": 2,
  "kernelspec": {
   "name": "python3",
   "display_name": "Python 3",
   "language": "python"
  }
 },
 "nbformat": 4,
 "nbformat_minor": 2,
 "cells": [
  {
   "cell_type": "code",
   "execution_count": 1,
   "metadata": {},
   "outputs": [],
   "source": [
    "import numpy as np\n",
    "import pandas as pd\n",
    "import tensorflow as tf\n",
    "import warnings\n",
    "import os\n",
    "import DeepFM as dfm\n",
    "import preprocess as prep\n",
    "from sklearn.metrics import roc_curve,confusion_matrix,recall_score,roc_auc_score\n",
    "import matplotlib.pyplot as plt\n",
    "import datetime\n",
    "warnings.filterwarnings('ignore')\n",
    "path_model='D:\\\\kyk-ml\\\\Recommendation_FactorModel+lightgbm\\\\DeepFM\\\\'"
   ]
  },
  {
   "cell_type": "code",
   "execution_count": 2,
   "metadata": {},
   "outputs": [],
   "source": [
    "delta0=datetime.timedelta(days=1)\n",
    "delta=datetime.timedelta(days=15)\n",
    "now=(datetime.datetime.now()-delta0).strftime(format='%Y/%m/%d')\n",
    "past=(datetime.datetime.now()-delta).strftime(format='%Y/%m/%d')\n",
    "train,test=prep.load_full_log(past,now,'2021/2/18','2021/2/19',is_test=True)\n",
    "item_pool=prep.load_item_pool(past,now)"
   ]
  },
  {
   "cell_type": "code",
   "execution_count": 3,
   "metadata": {},
   "outputs": [],
   "source": [
    "train_set,test_set=prep.process_data(train,item_pool,test_data=test,sampling_ratio=5,user_cols=['user_id'],item_cols=['item_id','item_catalog'])"
   ]
  },
  {
   "cell_type": "code",
   "execution_count": 4,
   "metadata": {},
   "outputs": [
    {
     "output_type": "stream",
     "name": "stdout",
     "text": [
      "loading model.\n",
      "\n",
      "Epoch 1/10\n",
      "17/17 [==============================] - 2s 9ms/step - loss: 0.2910 - roc_auc: 0.8790 - recall: 0.3544\n",
      "Epoch 2/10\n",
      "17/17 [==============================] - 0s 9ms/step - loss: 0.2719 - roc_auc: 0.8907 - recall: 0.4007\n",
      "Epoch 3/10\n",
      "17/17 [==============================] - 0s 9ms/step - loss: 0.2639 - roc_auc: 0.8961 - recall: 0.4109\n",
      "Epoch 4/10\n",
      "17/17 [==============================] - 0s 9ms/step - loss: 0.2566 - roc_auc: 0.9039 - recall: 0.4418\n",
      "Epoch 5/10\n",
      "17/17 [==============================] - 0s 9ms/step - loss: 0.2532 - roc_auc: 0.9036 - recall: 0.4904\n",
      "Epoch 6/10\n",
      "17/17 [==============================] - 0s 9ms/step - loss: 0.2547 - roc_auc: 0.9042 - recall: 0.4960\n",
      "Epoch 7/10\n",
      "17/17 [==============================] - 0s 9ms/step - loss: 0.2562 - roc_auc: 0.9084 - recall: 0.4629\n",
      "Epoch 8/10\n",
      "17/17 [==============================] - 0s 9ms/step - loss: 0.2758 - roc_auc: 0.8916 - recall: 0.4740\n",
      "Epoch 9/10\n",
      "17/17 [==============================] - 0s 9ms/step - loss: 0.2467 - roc_auc: 0.9147 - recall: 0.4722\n",
      "Epoch 10/10\n",
      "17/17 [==============================] - 0s 9ms/step - loss: 0.2418 - roc_auc: 0.9134 - recall: 0.4998\n",
      "17/17 [==============================] - 0s 5ms/step - loss: 0.2278 - roc_auc: 0.9346 - recall: 0.5907\n"
     ]
    }
   ],
   "source": [
    "model=dfm.DeepFatorizationMachine(64,1024)\n",
    "if os.path.exists(path_model+'DeepFM.h5'):\n",
    "    print('loading model.\\n')\n",
    "    model.predict(test_set.take(1))\n",
    "    model.load_weights(path_model+'DeepFM.h5')\n",
    "    model.compile(loss=tf.keras.losses.BinaryCrossentropy(),optimizer=tf.keras.optimizers.Adam(0.01),metrics=\n",
    "    [dfm.roc_auc,tf.keras.metrics.Recall()])\n",
    "    model.fit(test_set,epochs=10)\n",
    "    model.evaluate(test_set)\n",
    "    model.save_weights(path_model+'DeepFM.h5')\n",
    "else:   \n",
    "    model.compile(loss=tf.keras.losses.BinaryCrossentropy(),optimizer=tf.keras.optimizers.Adam(0.01),metrics=         \n",
    "    [dfm.roc_auc,tf.keras.metrics.Recall()])\n",
    "    model.fit(train_set,epochs=15,validation_data=test_set)\n",
    "    model.evaluate(test_set)\n",
    "    model.summary()\n",
    "    model.save_weights(path_model+'DeepFM.h5')"
   ]
  },
  {
   "cell_type": "code",
   "execution_count": 9,
   "metadata": {},
   "outputs": [],
   "source": [
    "user_ids=[\"'00d481e75bed4c4aa2cdc0799711fe68'\",\"'017a5094fe544967ad557489a3c97189'\",\"'714a4f3891024e1daf6753e01a14cbb8'\"]\n",
    "recmd=dfm.feeling_lucky(model,user_ids,topK=10,feature_cols=['user_id','item_id','item_catalog'])"
   ]
  },
  {
   "cell_type": "code",
   "execution_count": 10,
   "metadata": {},
   "outputs": [
    {
     "output_type": "execute_result",
     "data": {
      "text/plain": [
       "                                               1.0        2.0    3.0  \\\n",
       "0  00d481e75bed4c4aa2cdc0799711fe68  平安少儿综合意外险-基础版   民生银行-网乐贷    客宜贷   \n",
       "1  017a5094fe544967ad557489a3c97189  平安少儿综合意外险-基础版   民生银行-网乐贷    满意贷   \n",
       "2  714a4f3891024e1daf6753e01a14cbb8  平安少儿综合意外险-基础版  亚太百万人生意外险  云利宝A款   \n",
       "\n",
       "         4.0             5.0                  6.0             7.0        8.0  \\\n",
       "0   苏宁银行-微商贷             外贸贷                  税E贷      平安税金贷（企业主）      新网好企贷   \n",
       "1       甜橙借钱    学习无忧”疾病医疗学平险                  客宜贷  小蜜蜂综合意外保险（尊享款）  亚太百万人生意外险   \n",
       "2  孝心安老年人意外险  小蜜蜂综合意外保险（尊享款）  臻爱百万医疗保险计划(甲状腺病特别版)           招行薪福通         盈票   \n",
       "\n",
       "         9.0             10.0  \n",
       "0  微业贷（仅做展示）     大数金盈贷（广东）-诺诺  \n",
       "1   平安快贷-新一贷            云联烟草贷  \n",
       "2  拉卡拉灵活金-诺诺  好运贷（限物流、运输行业企业）  "
      ],
      "text/html": "<div>\n<style scoped>\n    .dataframe tbody tr th:only-of-type {\n        vertical-align: middle;\n    }\n\n    .dataframe tbody tr th {\n        vertical-align: top;\n    }\n\n    .dataframe thead th {\n        text-align: right;\n    }\n</style>\n<table border=\"1\" class=\"dataframe\">\n  <thead>\n    <tr style=\"text-align: right;\">\n      <th></th>\n      <th></th>\n      <th>1.0</th>\n      <th>2.0</th>\n      <th>3.0</th>\n      <th>4.0</th>\n      <th>5.0</th>\n      <th>6.0</th>\n      <th>7.0</th>\n      <th>8.0</th>\n      <th>9.0</th>\n      <th>10.0</th>\n    </tr>\n  </thead>\n  <tbody>\n    <tr>\n      <th>0</th>\n      <td>00d481e75bed4c4aa2cdc0799711fe68</td>\n      <td>平安少儿综合意外险-基础版</td>\n      <td>民生银行-网乐贷</td>\n      <td>客宜贷</td>\n      <td>苏宁银行-微商贷</td>\n      <td>外贸贷</td>\n      <td>税E贷</td>\n      <td>平安税金贷（企业主）</td>\n      <td>新网好企贷</td>\n      <td>微业贷（仅做展示）</td>\n      <td>大数金盈贷（广东）-诺诺</td>\n    </tr>\n    <tr>\n      <th>1</th>\n      <td>017a5094fe544967ad557489a3c97189</td>\n      <td>平安少儿综合意外险-基础版</td>\n      <td>民生银行-网乐贷</td>\n      <td>满意贷</td>\n      <td>甜橙借钱</td>\n      <td>学习无忧”疾病医疗学平险</td>\n      <td>客宜贷</td>\n      <td>小蜜蜂综合意外保险（尊享款）</td>\n      <td>亚太百万人生意外险</td>\n      <td>平安快贷-新一贷</td>\n      <td>云联烟草贷</td>\n    </tr>\n    <tr>\n      <th>2</th>\n      <td>714a4f3891024e1daf6753e01a14cbb8</td>\n      <td>平安少儿综合意外险-基础版</td>\n      <td>亚太百万人生意外险</td>\n      <td>云利宝A款</td>\n      <td>孝心安老年人意外险</td>\n      <td>小蜜蜂综合意外保险（尊享款）</td>\n      <td>臻爱百万医疗保险计划(甲状腺病特别版)</td>\n      <td>招行薪福通</td>\n      <td>盈票</td>\n      <td>拉卡拉灵活金-诺诺</td>\n      <td>好运贷（限物流、运输行业企业）</td>\n    </tr>\n  </tbody>\n</table>\n</div>"
     },
     "metadata": {},
     "execution_count": 10
    }
   ],
   "source": [
    "recmd"
   ]
  },
  {
   "cell_type": "code",
   "execution_count": null,
   "metadata": {},
   "outputs": [],
   "source": [
    "y_true,y_score,data=dfm.get_prediction(model,test_set)\n",
    "fpr,tpr,thresholds=roc_curve(y_true,y_score,drop_intermediate=False)\n",
    "auc=roc_auc_score(y_true,y_score)\n",
    "plt.plot(fpr,tpr)\n",
    "plt.legend(['AUC='+str(np.round(auc,3))])\n",
    "plt.show()"
   ]
  },
  {
   "cell_type": "code",
   "execution_count": null,
   "metadata": {},
   "outputs": [],
   "source": [
    "y_pred=np.zeros(len(y_true))\n",
    "threshold=0.5\n",
    "y_pred[y_score[:,0]>threshold]=1"
   ]
  },
  {
   "cell_type": "code",
   "execution_count": null,
   "metadata": {},
   "outputs": [],
   "source": [
    "recall_score(y_true,y_pred)"
   ]
  }
 ]
}