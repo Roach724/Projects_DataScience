{
 "metadata": {
  "language_info": {
   "codemirror_mode": {
    "name": "ipython",
    "version": 3
   },
   "file_extension": ".py",
   "mimetype": "text/x-python",
   "name": "python",
   "nbconvert_exporter": "python",
   "pygments_lexer": "ipython3",
   "version": "3.7.4-final"
  },
  "orig_nbformat": 2,
  "kernelspec": {
   "name": "python3",
   "display_name": "Python 3",
   "language": "python"
  }
 },
 "nbformat": 4,
 "nbformat_minor": 2,
 "cells": [
  {
   "cell_type": "code",
   "execution_count": 1,
   "metadata": {},
   "outputs": [],
   "source": [
    "import numpy as np\n",
    "import pandas as pd\n",
    "import tensorflow as tf\n",
    "import warnings\n",
    "import datetime\n",
    "import matplotlib.pyplot as plt\n",
    "import DeepFM_v2 as dfm\n",
    "import seaborn as sns\n",
    "from sklearn.model_selection import StratifiedKFold\n",
    "import io\n",
    "import os\n",
    "%matplotlib inline\n",
    "warnings.filterwarnings('ignore')"
   ]
  },
  {
   "cell_type": "code",
   "execution_count": 2,
   "metadata": {},
   "outputs": [],
   "source": [
    "profile=pd.read_csv('profile.csv')\n",
    "train=profile.loc[:,['label','id','item_tag']]\n",
    "train=train.dropna()\n",
    "y=train.pop('label')\n",
    "train=train.to_dict(orient='list')\n",
    "for key in train.keys():\n",
    "    train[key]=np.array(train[key])"
   ]
  },
  {
   "cell_type": "code",
   "execution_count": 4,
   "metadata": {},
   "outputs": [
    {
     "output_type": "stream",
     "name": "stdout",
     "text": [
      "Epoch 1/20\n",
      "2/2 - 1s - loss: 0.6922 - auc: 0.5615\n",
      "Epoch 2/20\n",
      "2/2 - 0s - loss: 0.6773 - auc: 0.9947\n",
      "Epoch 3/20\n",
      "2/2 - 0s - loss: 0.6617 - auc: 1.0000\n",
      "Epoch 4/20\n",
      "2/2 - 0s - loss: 0.6404 - auc: 1.0000\n",
      "Epoch 5/20\n",
      "2/2 - 0s - loss: 0.6177 - auc: 1.0000\n",
      "Epoch 6/20\n",
      "2/2 - 0s - loss: 0.5980 - auc: 1.0000\n",
      "Epoch 7/20\n",
      "2/2 - 0s - loss: 0.5697 - auc: 1.0000\n",
      "Epoch 8/20\n",
      "2/2 - 0s - loss: 0.5411 - auc: 1.0000\n",
      "Epoch 9/20\n",
      "2/2 - 0s - loss: 0.5091 - auc: 1.0000\n",
      "Epoch 10/20\n",
      "2/2 - 0s - loss: 0.4751 - auc: 1.0000\n",
      "Epoch 11/20\n",
      "2/2 - 0s - loss: 0.4407 - auc: 1.0000\n",
      "Epoch 12/20\n",
      "2/2 - 0s - loss: 0.4044 - auc: 1.0000\n",
      "Epoch 13/20\n",
      "2/2 - 0s - loss: 0.3688 - auc: 1.0000\n",
      "Epoch 14/20\n",
      "2/2 - 0s - loss: 0.3310 - auc: 1.0000\n",
      "Epoch 15/20\n",
      "2/2 - 0s - loss: 0.2912 - auc: 1.0000\n",
      "Epoch 16/20\n",
      "2/2 - 0s - loss: 0.2541 - auc: 1.0000\n",
      "Epoch 17/20\n",
      "2/2 - 0s - loss: 0.2190 - auc: 1.0000\n",
      "Epoch 18/20\n",
      "2/2 - 0s - loss: 0.1876 - auc: 1.0000\n",
      "Epoch 19/20\n",
      "2/2 - 0s - loss: 0.1582 - auc: 1.0000\n",
      "Epoch 20/20\n",
      "2/2 - 0s - loss: 0.1320 - auc: 1.0000\n",
      "INFO:tensorflow:Assets written to: item2vec\\assets\n"
     ]
    }
   ],
   "source": [
    "model=dfm.Item2vec(train,y)"
   ]
  },
  {
   "cell_type": "code",
   "execution_count": 6,
   "metadata": {},
   "outputs": [],
   "source": [
    "tag_weights=model.get_layer('tag_embedding').get_weights()[0]\n",
    "id_weights=model.get_layer('id_embedding').get_weights()[0]\n",
    "vocab=id_vectorize_layer.get_vocabulary()\n",
    "out_v=io.open('vectors.tsv','w',encoding='utf-8')\n",
    "out_m=io.open('metadata.tsv','w',encoding='utf-8')\n",
    "for index,word in enumerate(vocab):\n",
    "    if index==0:continue\n",
    "    vec=id_weights[index]\n",
    "    out_v.write('\\t'.join([str(x) for x in vec]) + \"\\n\")\n",
    "    out_m.write(word + \"\\n\")\n",
    "out_v.close()\n",
    "out_m.close()"
   ]
  },
  {
   "cell_type": "code",
   "execution_count": null,
   "metadata": {},
   "outputs": [],
   "source": []
  }
 ]
}