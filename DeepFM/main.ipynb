{
 "metadata": {
  "language_info": {
   "codemirror_mode": {
    "name": "ipython",
    "version": 3
   },
   "file_extension": ".py",
   "mimetype": "text/x-python",
   "name": "python",
   "nbconvert_exporter": "python",
   "pygments_lexer": "ipython3",
   "version": "3.8.2-final"
  },
  "orig_nbformat": 2,
  "kernelspec": {
   "name": "python3",
   "display_name": "Python 3",
   "language": "python"
  }
 },
 "nbformat": 4,
 "nbformat_minor": 2,
 "cells": [
  {
   "cell_type": "code",
   "execution_count": 2,
   "metadata": {},
   "outputs": [],
   "source": [
    "import numpy as np\n",
    "import pandas as pd\n",
    "import tensorflow as tf\n",
    "import warnings\n",
    "import os\n",
    "import DeepFM as dfm\n",
    "import preprocess as prep\n",
    "from sklearn.metrics import roc_curve,confusion_matrix,recall_score,roc_auc_score\n",
    "import matplotlib.pyplot as plt\n",
    "import seaborn as sns\n",
    "import datetime\n",
    "import time\n",
    "warnings.filterwarnings('ignore')\n",
    "path_model='D:\\\\kyk-ml\\\\Recommendation_FactorModel+lightgbm\\\\DeepFM\\\\'"
   ]
  },
  {
   "cell_type": "code",
   "execution_count": 4,
   "metadata": {},
   "outputs": [],
   "source": [
    "delta0=datetime.timedelta(days=3)\n",
    "delta=datetime.timedelta(days=15)\n",
    "now=(datetime.datetime.now()-delta0).strftime(format='%Y/%m/%d')\n",
    "past=(datetime.datetime.now()-delta).strftime(format='%Y/%m/%d')\n",
    "train,test=prep.load_full_log(past,now,'2021/2/18','2021/2/19',is_test=True)\n",
    "item_pool=prep.load_item_pool(past,now)"
   ]
  },
  {
   "cell_type": "code",
   "execution_count": 10,
   "metadata": {},
   "outputs": [
    {
     "output_type": "stream",
     "name": "stdout",
     "text": [
      "WARNING:tensorflow:Using a while_loop for converting BoostedTreesBucketize\n",
      "WARNING:tensorflow:Using a while_loop for converting BoostedTreesBucketize\n",
      "WARNING:tensorflow:5 out of the last 5 calls to <function pfor.<locals>.f at 0x00000187B26FC160> triggered tf.function retracing. Tracing is expensive and the excessive number of tracings could be due to (1) creating @tf.function repeatedly in a loop, (2) passing tensors with different shapes, (3) passing Python objects instead of tensors. For (1), please define your @tf.function outside of the loop. For (2), @tf.function has experimental_relax_shapes=True option that relaxes argument shapes that can avoid unnecessary retracing. For (3), please refer to https://www.tensorflow.org/guide/function#controlling_retracing and https://www.tensorflow.org/api_docs/python/tf/function for  more details.\n"
     ]
    }
   ],
   "source": [
    "model=dfm.DeepFatorizationMachine(128,10000)\n",
    "#model.build((None,None))\n",
    "train_set,test_set=model.data_pipeline(train,item_pool,test_data=test,sampling_ratio=3,user_cols=['user_id','age','gender'],item_cols=['item_id','item_catalog'])\n",
    "train_set=train_set.shuffle(10000).batch(4096)\n",
    "test_set=test_set.shuffle(1000).batch(512)"
   ]
  },
  {
   "cell_type": "code",
   "execution_count": 14,
   "metadata": {},
   "outputs": [
    {
     "output_type": "stream",
     "name": "stdout",
     "text": [
      "loading model.\n",
      "\n",
      "72/72 [==============================] - 19s 240ms/step - loss: 0.2165 - roc_auc: 0.8689 - recall_2: 0.2594\n",
      "68/68 [==============================] - 1s 14ms/step - loss: 0.3464 - roc_auc: 0.5426 - recall_2: 0.0765\n"
     ]
    }
   ],
   "source": [
    "if os.path.exists(path_model+'DeepFM.h5'):\n",
    "    print('loading model.\\n')\n",
    "    model.predict(test_set)\n",
    "    model.load_weights(path_model+'DeepFM.h5')\n",
    "    model.compile(loss=tf.keras.losses.BinaryCrossentropy(),optimizer=tf.keras.optimizers.Adam(0.01),metrics=[dfm.roc_auc,tf.keras.metrics.Recall()])\n",
    "    model.fit(train_set,epochs=1)\n",
    "    model.evaluate(test_set)\n",
    "    model.save_weights(path_model+'DeepFM.h5')\n",
    "else:\n",
    "    model.compile(loss=tf.keras.losses.BinaryCrossentropy(),optimizer=tf.keras.optimizers.Adam(0.01),metrics=[dfm.roc_auc,tf.keras.metrics.Recall()])\n",
    "    model.fit(train_set,epochs=10,validation_data=test_set)\n",
    "    model.summary()\n",
    "    model.save_weights(path_model+'DeepFM.h5')"
   ]
  },
  {
   "cell_type": "code",
   "execution_count": 15,
   "metadata": {},
   "outputs": [
    {
     "output_type": "stream",
     "name": "stdout",
     "text": [
      "WARNING:tensorflow:Using a while_loop for converting BoostedTreesBucketize\n",
      "WARNING:tensorflow:7 out of the last 7 calls to <function pfor.<locals>.f at 0x00000187B4361550> triggered tf.function retracing. Tracing is expensive and the excessive number of tracings could be due to (1) creating @tf.function repeatedly in a loop, (2) passing tensors with different shapes, (3) passing Python objects instead of tensors. For (1), please define your @tf.function outside of the loop. For (2), @tf.function has experimental_relax_shapes=True option that relaxes argument shapes that can avoid unnecessary retracing. For (3), please refer to https://www.tensorflow.org/guide/function#controlling_retracing and https://www.tensorflow.org/api_docs/python/tf/function for  more details.\n"
     ]
    }
   ],
   "source": [
    "user_ids=[\"'00d481e75bed4c4aa2cdc0799711fe68'\",\"'017a5094fe544967ad557489a3c97189'\",\"'714a4f3891024e1daf6753e01a14cbb8'\"]\n",
    "recmd=model.feeling_lucky(user_ids,topK=10,feature_cols=['user_id','age','gender','weekday','item_id','item_catalog'])"
   ]
  },
  {
   "cell_type": "code",
   "execution_count": 16,
   "metadata": {},
   "outputs": [
    {
     "output_type": "execute_result",
     "data": {
      "text/plain": [
       "                                           1.0       2.0        3.0  \\\n",
       "0  00d481e75bed4c4aa2cdc0799711fe68        企速贷     新网好企贷        客金贷   \n",
       "1  017a5094fe544967ad557489a3c97189  微业贷（仅做展示）       税E贷        客金贷   \n",
       "2  714a4f3891024e1daf6753e01a14cbb8      新网好企贷  苏宁银行-微商贷  微业贷（仅做展示）   \n",
       "\n",
       "         4.0       5.0  6.0         7.0         8.0       9.0  10.0  \n",
       "0  微业贷（仅做展示）  富民银行-富税贷  企速贷         税E贷         客宜贷       渤税贷  小微快贷  \n",
       "1       小微快贷     新网好企贷  企速贷  平安税金贷（企业主）    富民银行-富税贷       渤税贷   客宜贷  \n",
       "2        税E贷       客宜贷  客金贷         企速贷  平安税金贷（企业主）  平安快贷-新一贷  小微快贷  "
      ],
      "text/html": "<div>\n<style scoped>\n    .dataframe tbody tr th:only-of-type {\n        vertical-align: middle;\n    }\n\n    .dataframe tbody tr th {\n        vertical-align: top;\n    }\n\n    .dataframe thead th {\n        text-align: right;\n    }\n</style>\n<table border=\"1\" class=\"dataframe\">\n  <thead>\n    <tr style=\"text-align: right;\">\n      <th></th>\n      <th></th>\n      <th>1.0</th>\n      <th>2.0</th>\n      <th>3.0</th>\n      <th>4.0</th>\n      <th>5.0</th>\n      <th>6.0</th>\n      <th>7.0</th>\n      <th>8.0</th>\n      <th>9.0</th>\n      <th>10.0</th>\n    </tr>\n  </thead>\n  <tbody>\n    <tr>\n      <th>0</th>\n      <td>00d481e75bed4c4aa2cdc0799711fe68</td>\n      <td>企速贷</td>\n      <td>新网好企贷</td>\n      <td>客金贷</td>\n      <td>微业贷（仅做展示）</td>\n      <td>富民银行-富税贷</td>\n      <td>企速贷</td>\n      <td>税E贷</td>\n      <td>客宜贷</td>\n      <td>渤税贷</td>\n      <td>小微快贷</td>\n    </tr>\n    <tr>\n      <th>1</th>\n      <td>017a5094fe544967ad557489a3c97189</td>\n      <td>微业贷（仅做展示）</td>\n      <td>税E贷</td>\n      <td>客金贷</td>\n      <td>小微快贷</td>\n      <td>新网好企贷</td>\n      <td>企速贷</td>\n      <td>平安税金贷（企业主）</td>\n      <td>富民银行-富税贷</td>\n      <td>渤税贷</td>\n      <td>客宜贷</td>\n    </tr>\n    <tr>\n      <th>2</th>\n      <td>714a4f3891024e1daf6753e01a14cbb8</td>\n      <td>新网好企贷</td>\n      <td>苏宁银行-微商贷</td>\n      <td>微业贷（仅做展示）</td>\n      <td>税E贷</td>\n      <td>客宜贷</td>\n      <td>客金贷</td>\n      <td>企速贷</td>\n      <td>平安税金贷（企业主）</td>\n      <td>平安快贷-新一贷</td>\n      <td>小微快贷</td>\n    </tr>\n  </tbody>\n</table>\n</div>"
     },
     "metadata": {},
     "execution_count": 16
    }
   ],
   "source": [
    "recmd"
   ]
  },
  {
   "cell_type": "code",
   "execution_count": null,
   "metadata": {},
   "outputs": [],
   "source": []
  }
 ]
}