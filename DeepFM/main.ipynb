{
 "metadata": {
  "language_info": {
   "codemirror_mode": {
    "name": "ipython",
    "version": 3
   },
   "file_extension": ".py",
   "mimetype": "text/x-python",
   "name": "python",
   "nbconvert_exporter": "python",
   "pygments_lexer": "ipython3",
   "version": "3.7.4-final"
  },
  "orig_nbformat": 2,
  "kernelspec": {
   "name": "python3",
   "display_name": "Python 3",
   "language": "python"
  }
 },
 "nbformat": 4,
 "nbformat_minor": 2,
 "cells": [
  {
   "cell_type": "code",
   "execution_count": 1,
   "metadata": {},
   "outputs": [],
   "source": [
    "import numpy as np\n",
    "import pandas as pd\n",
    "import tensorflow as tf\n",
    "from typing import Dict,Text\n",
    "import warnings\n",
    "import datetime\n",
    "import matplotlib.pyplot as plt\n",
    "import DeepFM_v2offline as dfm\n",
    "import tensorflow_recommenders as tfrs\n",
    "import seaborn as sns\n",
    "from RFM import RFM\n",
    "import io\n",
    "from sklearn.preprocessing import MinMaxScaler\n",
    "%matplotlib inline\n",
    "warnings.filterwarnings('ignore')"
   ]
  },
  {
   "cell_type": "code",
   "execution_count": 2,
   "metadata": {},
   "outputs": [
    {
     "output_type": "stream",
     "name": "stdout",
     "text": [
      "WARNING:tensorflow:5 out of the last 5 calls to <function recreate_function.<locals>.restored_function_body at 0x000002BEAB8951F8> triggered tf.function retracing. Tracing is expensive and the excessive number of tracings could be due to (1) creating @tf.function repeatedly in a loop, (2) passing tensors with different shapes, (3) passing Python objects instead of tensors. For (1), please define your @tf.function outside of the loop. For (2), @tf.function has experimental_relax_shapes=True option that relaxes argument shapes that can avoid unnecessary retracing. For (3), please refer to https://www.tensorflow.org/guide/function#controlling_retracing and https://www.tensorflow.org/api_docs/python/tf/function for  more details.\n",
      "WARNING:tensorflow:6 out of the last 6 calls to <function recreate_function.<locals>.restored_function_body at 0x000002BFEA754C18> triggered tf.function retracing. Tracing is expensive and the excessive number of tracings could be due to (1) creating @tf.function repeatedly in a loop, (2) passing tensors with different shapes, (3) passing Python objects instead of tensors. For (1), please define your @tf.function outside of the loop. For (2), @tf.function has experimental_relax_shapes=True option that relaxes argument shapes that can avoid unnecessary retracing. For (3), please refer to https://www.tensorflow.org/guide/function#controlling_retracing and https://www.tensorflow.org/api_docs/python/tf/function for  more details.\n"
     ]
    }
   ],
   "source": [
    "#max=11560351\n",
    "#deepfm=tf.keras.models.load_model('D:\\\\Github\\\\projects-1\\\\DeepFM\\\\DeepFM')\n",
    "retriever=tf.keras.models.load_model('D:\\\\Github\\\\projects-1\\\\DeepFM\\\\Retrieval')\n",
    "vectorizer=tf.keras.models.load_model('D:\\\\Github\\\\projects-1\\\\DeepFM\\\\Vectorizer')"
   ]
  },
  {
   "cell_type": "code",
   "execution_count": null,
   "metadata": {},
   "outputs": [],
   "source": [
    "#load fundamental log data for retrieval model training\n",
    "'''\n",
    "X=pd.read_csv('D:\\\\Github\\\\dataset\\\\user_log_rs20.csv',usecols=[1,2,3,4,5,6,7])\n",
    "y=X.pop('label').values\n",
    "X=X.to_dict(orient='list')\n",
    "for key in X.keys():\n",
    "    X[key]=np.array(X[key])\n",
    "#vectorizer=dfm.Vectorizer()\n",
    "#vectorizer=dfm.fit_vectorizer(vectorizer,X)\n",
    "#vectorizer.save('Vectorizer')\n",
    "X_vectorize=dfm.vectorize(vectorizer,X)"
   ]
  },
  {
   "cell_type": "code",
   "execution_count": null,
   "metadata": {},
   "outputs": [],
   "source": [
    "'''\n",
    "retrieve=dfm.Retrieval()\n",
    "tensorboard=tf.keras.callbacks.TensorBoard(log_dir='E:\\\\Tensorboard\\\\DeepFM\\\\',write_graph=True)\n",
    "earlystopping=tf.keras.callbacks.EarlyStopping(monitor='val_loss',verbose=1,patience=3,mode='min',restore_best_weights=True)\n",
    "retrieve.compile(optimizer=tf.keras.optimizers.Adam(0.01),loss=tf.keras.losses.BinaryCrossentropy(),metrics=[tf.keras.metrics.AUC(),tf.keras.metrics.Recall()])\n",
    "retrieve.fit(X_vectorize,y,batch_size=2**14,epochs=10,validation_split=0.3,callbacks=[earlystopping,tensorboard])"
   ]
  },
  {
   "cell_type": "code",
   "execution_count": 3,
   "metadata": {},
   "outputs": [],
   "source": [
    "retrieve_data=pd.read_csv('D:\\\\Github\\\\dataset\\\\retrieve_data_feature.csv')\n",
    "user_log=pd.read_csv('D:\\\\Github\\\\dataset\\\\user_log_with_time.csv')"
   ]
  },
  {
   "cell_type": "code",
   "execution_count": 5,
   "metadata": {},
   "outputs": [
    {
     "output_type": "error",
     "ename": "TypeError",
     "evalue": "'Series' objects are mutable, thus they cannot be hashed",
     "traceback": [
      "\u001b[1;31m---------------------------------------------------------------------------\u001b[0m",
      "\u001b[1;31mTypeError\u001b[0m                                 Traceback (most recent call last)",
      "\u001b[1;32m<ipython-input-5-9e56772ccbdc>\u001b[0m in \u001b[0;36m<module>\u001b[1;34m\u001b[0m\n\u001b[0;32m      1\u001b[0m \u001b[0muser_log\u001b[0m\u001b[1;33m,\u001b[0m\u001b[0mlast_click\u001b[0m\u001b[1;33m=\u001b[0m\u001b[0mdfm\u001b[0m\u001b[1;33m.\u001b[0m\u001b[0mget_last_click\u001b[0m\u001b[1;33m(\u001b[0m\u001b[0muser_log\u001b[0m\u001b[1;33m)\u001b[0m\u001b[1;33m\u001b[0m\u001b[1;33m\u001b[0m\u001b[0m\n\u001b[1;32m----> 2\u001b[1;33m \u001b[0mlast_click\u001b[0m\u001b[1;33m=\u001b[0m\u001b[0mdfm\u001b[0m\u001b[1;33m.\u001b[0m\u001b[0mcreate_feature\u001b[0m\u001b[1;33m(\u001b[0m\u001b[0mvectorizer\u001b[0m\u001b[1;33m,\u001b[0m\u001b[0mretriever\u001b[0m\u001b[1;33m,\u001b[0m\u001b[0mlast_click\u001b[0m\u001b[1;33m,\u001b[0m\u001b[0muser_log\u001b[0m\u001b[1;33m,\u001b[0m\u001b[0mretrieve_data\u001b[0m\u001b[1;33m)\u001b[0m\u001b[1;33m\u001b[0m\u001b[1;33m\u001b[0m\u001b[0m\n\u001b[0m",
      "\u001b[1;32md:\\Github\\projects-1\\DeepFM\\DeepFM_v2offline.py\u001b[0m in \u001b[0;36mcreate_feature\u001b[1;34m(vectorizer, retriever, data, user_log, rank_data, N)\u001b[0m\n\u001b[0;32m    503\u001b[0m \u001b[1;32mdef\u001b[0m \u001b[0mcreate_feature\u001b[0m\u001b[1;33m(\u001b[0m\u001b[0mvectorizer\u001b[0m\u001b[1;33m,\u001b[0m\u001b[0mretriever\u001b[0m\u001b[1;33m,\u001b[0m\u001b[0mdata\u001b[0m\u001b[1;33m,\u001b[0m\u001b[0muser_log\u001b[0m\u001b[1;33m,\u001b[0m\u001b[0mrank_data\u001b[0m\u001b[1;33m,\u001b[0m\u001b[0mN\u001b[0m\u001b[1;33m=\u001b[0m\u001b[1;36m10\u001b[0m\u001b[1;33m)\u001b[0m\u001b[1;33m:\u001b[0m\u001b[1;33m\u001b[0m\u001b[1;33m\u001b[0m\u001b[0m\n\u001b[0;32m    504\u001b[0m     \u001b[0mitem_embedding\u001b[0m\u001b[1;33m=\u001b[0m\u001b[0mget_item_embedding\u001b[0m\u001b[1;33m(\u001b[0m\u001b[0mvectorizer\u001b[0m\u001b[1;33m,\u001b[0m\u001b[0mretriever\u001b[0m\u001b[1;33m,\u001b[0m\u001b[0mrank_data\u001b[0m\u001b[1;33m)\u001b[0m\u001b[1;33m\u001b[0m\u001b[1;33m\u001b[0m\u001b[0m\n\u001b[1;32m--> 505\u001b[1;33m     \u001b[0mlastN_embedding\u001b[0m\u001b[1;33m=\u001b[0m\u001b[0mget_lastNitem_embedding\u001b[0m\u001b[1;33m(\u001b[0m\u001b[0mvectorizer\u001b[0m\u001b[1;33m,\u001b[0m\u001b[0mretriever\u001b[0m\u001b[1;33m,\u001b[0m\u001b[0muser_log\u001b[0m\u001b[1;33m,\u001b[0m\u001b[0mN\u001b[0m\u001b[1;33m)\u001b[0m\u001b[1;33m\u001b[0m\u001b[1;33m\u001b[0m\u001b[0m\n\u001b[0m\u001b[0;32m    506\u001b[0m     \u001b[0mdata\u001b[0m\u001b[1;33m=\u001b[0m\u001b[0mdata\u001b[0m\u001b[1;33m.\u001b[0m\u001b[0mmerge\u001b[0m\u001b[1;33m(\u001b[0m\u001b[0mlastN_embedding\u001b[0m\u001b[1;33m,\u001b[0m\u001b[0mon\u001b[0m\u001b[1;33m=\u001b[0m\u001b[1;34m'user_id'\u001b[0m\u001b[1;33m,\u001b[0m\u001b[0mhow\u001b[0m\u001b[1;33m=\u001b[0m\u001b[1;34m'left'\u001b[0m\u001b[1;33m)\u001b[0m\u001b[1;33m\u001b[0m\u001b[1;33m\u001b[0m\u001b[0m\n\u001b[0;32m    507\u001b[0m     \u001b[0mdata\u001b[0m\u001b[1;33m=\u001b[0m\u001b[0mdata\u001b[0m\u001b[1;33m.\u001b[0m\u001b[0mmerge\u001b[0m\u001b[1;33m(\u001b[0m\u001b[0mitem_embedding\u001b[0m\u001b[1;33m,\u001b[0m\u001b[0mon\u001b[0m\u001b[1;33m=\u001b[0m\u001b[1;34m'item_id'\u001b[0m\u001b[1;33m,\u001b[0m\u001b[0mhow\u001b[0m\u001b[1;33m=\u001b[0m\u001b[1;34m'left'\u001b[0m\u001b[1;33m)\u001b[0m\u001b[1;33m\u001b[0m\u001b[1;33m\u001b[0m\u001b[0m\n",
      "\u001b[1;32md:\\Github\\projects-1\\DeepFM\\DeepFM_v2offline.py\u001b[0m in \u001b[0;36mget_lastNitem_embedding\u001b[1;34m(vecotizer, retriever, user_log, N)\u001b[0m\n\u001b[0;32m    435\u001b[0m         \u001b[0mmax_record\u001b[0m\u001b[1;33m=\u001b[0m\u001b[0mlen\u001b[0m\u001b[1;33m(\u001b[0m\u001b[0mclick_history\u001b[0m\u001b[1;33m)\u001b[0m\u001b[1;33m\u001b[0m\u001b[1;33m\u001b[0m\u001b[0m\n\u001b[0;32m    436\u001b[0m         \u001b[0mclick_history\u001b[0m\u001b[1;33m[\u001b[0m\u001b[1;34m'time_weight'\u001b[0m\u001b[1;33m]\u001b[0m\u001b[1;33m=\u001b[0m\u001b[1;33m(\u001b[0m\u001b[0mdatetime\u001b[0m\u001b[1;33m.\u001b[0m\u001b[0mdatetime\u001b[0m\u001b[1;33m.\u001b[0m\u001b[0mnow\u001b[0m\u001b[1;33m(\u001b[0m\u001b[1;33m)\u001b[0m\u001b[1;33m-\u001b[0m\u001b[0mclick_history\u001b[0m\u001b[1;33m[\u001b[0m\u001b[1;34m'time_stamp'\u001b[0m\u001b[1;33m]\u001b[0m\u001b[1;33m)\u001b[0m\u001b[1;33m.\u001b[0m\u001b[0mapply\u001b[0m\u001b[1;33m(\u001b[0m\u001b[1;32mlambda\u001b[0m \u001b[0mx\u001b[0m\u001b[1;33m:\u001b[0m \u001b[0mx\u001b[0m\u001b[1;33m.\u001b[0m\u001b[0mdays\u001b[0m\u001b[1;33m)\u001b[0m\u001b[1;33m\u001b[0m\u001b[1;33m\u001b[0m\u001b[0m\n\u001b[1;32m--> 437\u001b[1;33m         \u001b[0mclick_history\u001b[0m\u001b[1;33m[\u001b[0m\u001b[0mclick_history\u001b[0m\u001b[1;33m[\u001b[0m\u001b[1;34m'time_weight'\u001b[0m\u001b[1;33m]\u001b[0m\u001b[1;33m==\u001b[0m\u001b[1;36m0\u001b[0m\u001b[1;33m,\u001b[0m\u001b[1;34m'time_weight'\u001b[0m\u001b[1;33m]\u001b[0m\u001b[1;33m=\u001b[0m\u001b[1;36m0.8\u001b[0m\u001b[1;33m\u001b[0m\u001b[1;33m\u001b[0m\u001b[0m\n\u001b[0m\u001b[0;32m    438\u001b[0m         \u001b[0mclick_history\u001b[0m\u001b[1;33m[\u001b[0m\u001b[1;34m'time_weight'\u001b[0m\u001b[1;33m]\u001b[0m\u001b[1;33m=\u001b[0m\u001b[1;36m1\u001b[0m\u001b[1;33m/\u001b[0m\u001b[0mclick_history\u001b[0m\u001b[1;33m[\u001b[0m\u001b[1;34m'time_weight'\u001b[0m\u001b[1;33m]\u001b[0m\u001b[1;33m\u001b[0m\u001b[1;33m\u001b[0m\u001b[0m\n\u001b[0;32m    439\u001b[0m         \u001b[0mtime_weight\u001b[0m\u001b[1;33m=\u001b[0m\u001b[0mclick_history\u001b[0m\u001b[1;33m[\u001b[0m\u001b[1;34m'time_weight'\u001b[0m\u001b[1;33m]\u001b[0m\u001b[1;33m.\u001b[0m\u001b[0mvalues\u001b[0m\u001b[1;33m\u001b[0m\u001b[1;33m\u001b[0m\u001b[0m\n",
      "\u001b[1;32mD:\\Python\\lib\\site-packages\\pandas\\core\\frame.py\u001b[0m in \u001b[0;36m__setitem__\u001b[1;34m(self, key, value)\u001b[0m\n\u001b[0;32m   3470\u001b[0m         \u001b[1;32melse\u001b[0m\u001b[1;33m:\u001b[0m\u001b[1;33m\u001b[0m\u001b[1;33m\u001b[0m\u001b[0m\n\u001b[0;32m   3471\u001b[0m             \u001b[1;31m# set column\u001b[0m\u001b[1;33m\u001b[0m\u001b[1;33m\u001b[0m\u001b[1;33m\u001b[0m\u001b[0m\n\u001b[1;32m-> 3472\u001b[1;33m             \u001b[0mself\u001b[0m\u001b[1;33m.\u001b[0m\u001b[0m_set_item\u001b[0m\u001b[1;33m(\u001b[0m\u001b[0mkey\u001b[0m\u001b[1;33m,\u001b[0m \u001b[0mvalue\u001b[0m\u001b[1;33m)\u001b[0m\u001b[1;33m\u001b[0m\u001b[1;33m\u001b[0m\u001b[0m\n\u001b[0m\u001b[0;32m   3473\u001b[0m \u001b[1;33m\u001b[0m\u001b[0m\n\u001b[0;32m   3474\u001b[0m     \u001b[1;32mdef\u001b[0m \u001b[0m_setitem_slice\u001b[0m\u001b[1;33m(\u001b[0m\u001b[0mself\u001b[0m\u001b[1;33m,\u001b[0m \u001b[0mkey\u001b[0m\u001b[1;33m,\u001b[0m \u001b[0mvalue\u001b[0m\u001b[1;33m)\u001b[0m\u001b[1;33m:\u001b[0m\u001b[1;33m\u001b[0m\u001b[1;33m\u001b[0m\u001b[0m\n",
      "\u001b[1;32mD:\\Python\\lib\\site-packages\\pandas\\core\\frame.py\u001b[0m in \u001b[0;36m_set_item\u001b[1;34m(self, key, value)\u001b[0m\n\u001b[0;32m   3547\u001b[0m \u001b[1;33m\u001b[0m\u001b[0m\n\u001b[0;32m   3548\u001b[0m         \u001b[0mself\u001b[0m\u001b[1;33m.\u001b[0m\u001b[0m_ensure_valid_index\u001b[0m\u001b[1;33m(\u001b[0m\u001b[0mvalue\u001b[0m\u001b[1;33m)\u001b[0m\u001b[1;33m\u001b[0m\u001b[1;33m\u001b[0m\u001b[0m\n\u001b[1;32m-> 3549\u001b[1;33m         \u001b[0mvalue\u001b[0m \u001b[1;33m=\u001b[0m \u001b[0mself\u001b[0m\u001b[1;33m.\u001b[0m\u001b[0m_sanitize_column\u001b[0m\u001b[1;33m(\u001b[0m\u001b[0mkey\u001b[0m\u001b[1;33m,\u001b[0m \u001b[0mvalue\u001b[0m\u001b[1;33m)\u001b[0m\u001b[1;33m\u001b[0m\u001b[1;33m\u001b[0m\u001b[0m\n\u001b[0m\u001b[0;32m   3550\u001b[0m         \u001b[0mNDFrame\u001b[0m\u001b[1;33m.\u001b[0m\u001b[0m_set_item\u001b[0m\u001b[1;33m(\u001b[0m\u001b[0mself\u001b[0m\u001b[1;33m,\u001b[0m \u001b[0mkey\u001b[0m\u001b[1;33m,\u001b[0m \u001b[0mvalue\u001b[0m\u001b[1;33m)\u001b[0m\u001b[1;33m\u001b[0m\u001b[1;33m\u001b[0m\u001b[0m\n\u001b[0;32m   3551\u001b[0m \u001b[1;33m\u001b[0m\u001b[0m\n",
      "\u001b[1;32mD:\\Python\\lib\\site-packages\\pandas\\core\\frame.py\u001b[0m in \u001b[0;36m_sanitize_column\u001b[1;34m(self, key, value, broadcast)\u001b[0m\n\u001b[0;32m   3762\u001b[0m \u001b[1;33m\u001b[0m\u001b[0m\n\u001b[0;32m   3763\u001b[0m         \u001b[1;31m# broadcast across multiple columns if necessary\u001b[0m\u001b[1;33m\u001b[0m\u001b[1;33m\u001b[0m\u001b[1;33m\u001b[0m\u001b[0m\n\u001b[1;32m-> 3764\u001b[1;33m         \u001b[1;32mif\u001b[0m \u001b[0mbroadcast\u001b[0m \u001b[1;32mand\u001b[0m \u001b[0mkey\u001b[0m \u001b[1;32min\u001b[0m \u001b[0mself\u001b[0m\u001b[1;33m.\u001b[0m\u001b[0mcolumns\u001b[0m \u001b[1;32mand\u001b[0m \u001b[0mvalue\u001b[0m\u001b[1;33m.\u001b[0m\u001b[0mndim\u001b[0m \u001b[1;33m==\u001b[0m \u001b[1;36m1\u001b[0m\u001b[1;33m:\u001b[0m\u001b[1;33m\u001b[0m\u001b[1;33m\u001b[0m\u001b[0m\n\u001b[0m\u001b[0;32m   3765\u001b[0m             \u001b[1;32mif\u001b[0m \u001b[1;32mnot\u001b[0m \u001b[0mself\u001b[0m\u001b[1;33m.\u001b[0m\u001b[0mcolumns\u001b[0m\u001b[1;33m.\u001b[0m\u001b[0mis_unique\u001b[0m \u001b[1;32mor\u001b[0m \u001b[0misinstance\u001b[0m\u001b[1;33m(\u001b[0m\u001b[0mself\u001b[0m\u001b[1;33m.\u001b[0m\u001b[0mcolumns\u001b[0m\u001b[1;33m,\u001b[0m \u001b[0mMultiIndex\u001b[0m\u001b[1;33m)\u001b[0m\u001b[1;33m:\u001b[0m\u001b[1;33m\u001b[0m\u001b[1;33m\u001b[0m\u001b[0m\n\u001b[0;32m   3766\u001b[0m                 \u001b[0mexisting_piece\u001b[0m \u001b[1;33m=\u001b[0m \u001b[0mself\u001b[0m\u001b[1;33m[\u001b[0m\u001b[0mkey\u001b[0m\u001b[1;33m]\u001b[0m\u001b[1;33m\u001b[0m\u001b[1;33m\u001b[0m\u001b[0m\n",
      "\u001b[1;32mD:\\Python\\lib\\site-packages\\pandas\\core\\indexes\\base.py\u001b[0m in \u001b[0;36m__contains__\u001b[1;34m(self, key)\u001b[0m\n\u001b[0;32m   4228\u001b[0m     \u001b[1;33m@\u001b[0m\u001b[0mAppender\u001b[0m\u001b[1;33m(\u001b[0m\u001b[0m_index_shared_docs\u001b[0m\u001b[1;33m[\u001b[0m\u001b[1;34m\"contains\"\u001b[0m\u001b[1;33m]\u001b[0m \u001b[1;33m%\u001b[0m \u001b[0m_index_doc_kwargs\u001b[0m\u001b[1;33m)\u001b[0m\u001b[1;33m\u001b[0m\u001b[1;33m\u001b[0m\u001b[0m\n\u001b[0;32m   4229\u001b[0m     \u001b[1;32mdef\u001b[0m \u001b[0m__contains__\u001b[0m\u001b[1;33m(\u001b[0m\u001b[0mself\u001b[0m\u001b[1;33m,\u001b[0m \u001b[0mkey\u001b[0m\u001b[1;33m)\u001b[0m\u001b[1;33m:\u001b[0m\u001b[1;33m\u001b[0m\u001b[1;33m\u001b[0m\u001b[0m\n\u001b[1;32m-> 4230\u001b[1;33m         \u001b[0mhash\u001b[0m\u001b[1;33m(\u001b[0m\u001b[0mkey\u001b[0m\u001b[1;33m)\u001b[0m\u001b[1;33m\u001b[0m\u001b[1;33m\u001b[0m\u001b[0m\n\u001b[0m\u001b[0;32m   4231\u001b[0m         \u001b[1;32mtry\u001b[0m\u001b[1;33m:\u001b[0m\u001b[1;33m\u001b[0m\u001b[1;33m\u001b[0m\u001b[0m\n\u001b[0;32m   4232\u001b[0m             \u001b[1;32mreturn\u001b[0m \u001b[0mkey\u001b[0m \u001b[1;32min\u001b[0m \u001b[0mself\u001b[0m\u001b[1;33m.\u001b[0m\u001b[0m_engine\u001b[0m\u001b[1;33m\u001b[0m\u001b[1;33m\u001b[0m\u001b[0m\n",
      "\u001b[1;32mD:\\Python\\lib\\site-packages\\pandas\\core\\generic.py\u001b[0m in \u001b[0;36m__hash__\u001b[1;34m(self)\u001b[0m\n\u001b[0;32m   1884\u001b[0m         raise TypeError(\n\u001b[0;32m   1885\u001b[0m             \u001b[1;34m\"{0!r} objects are mutable, thus they cannot be\"\u001b[0m\u001b[1;33m\u001b[0m\u001b[1;33m\u001b[0m\u001b[0m\n\u001b[1;32m-> 1886\u001b[1;33m             \u001b[1;34m\" hashed\"\u001b[0m\u001b[1;33m.\u001b[0m\u001b[0mformat\u001b[0m\u001b[1;33m(\u001b[0m\u001b[0mself\u001b[0m\u001b[1;33m.\u001b[0m\u001b[0m__class__\u001b[0m\u001b[1;33m.\u001b[0m\u001b[0m__name__\u001b[0m\u001b[1;33m)\u001b[0m\u001b[1;33m\u001b[0m\u001b[1;33m\u001b[0m\u001b[0m\n\u001b[0m\u001b[0;32m   1887\u001b[0m         )\n\u001b[0;32m   1888\u001b[0m \u001b[1;33m\u001b[0m\u001b[0m\n",
      "\u001b[1;31mTypeError\u001b[0m: 'Series' objects are mutable, thus they cannot be hashed"
     ]
    }
   ],
   "source": [
    "user_log,last_click=dfm.get_last_click(user_log)\n",
    "last_click=dfm.create_feature(vectorizer,retriever,last_click,user_log,retrieve_data)"
   ]
  },
  {
   "cell_type": "code",
   "execution_count": null,
   "metadata": {},
   "outputs": [],
   "source": [
    "y=retrieve_data.pop('label').values\n",
    "X=retrieve_data.iloc[:,6:].values"
   ]
  },
  {
   "cell_type": "code",
   "execution_count": null,
   "metadata": {},
   "outputs": [],
   "source": [
    "ranker=dfm.DeepFM(activation='relu',hidden_units=[128,64,32],dropouts=[0,0,0])\n",
    "ranker.compile(optimizer=tf.keras.optimizers.Adam(0.01),loss=tf.keras.losses.BinaryCrossentropy(),metrics=[tf.keras.metrics.AUC(),tf.keras.metrics.Recall(),tf.keras.metrics.Precision()])\n",
    "ranker.fit(X,y,batch_size=8192,epochs=100)"
   ]
  },
  {
   "cell_type": "code",
   "execution_count": null,
   "metadata": {},
   "outputs": [],
   "source": []
  },
  {
   "cell_type": "code",
   "execution_count": null,
   "metadata": {},
   "outputs": [],
   "source": []
  },
  {
   "cell_type": "code",
   "execution_count": null,
   "metadata": {},
   "outputs": [],
   "source": []
  },
  {
   "cell_type": "code",
   "execution_count": null,
   "metadata": {},
   "outputs": [],
   "source": [
    "#user_clicks=user_log.groupby(['user_id'],as_index=False)['item_id'].agg({'item_id':np.size})\n",
    "#item_clicks=user_log.groupby(['item_id'],as_index=False)['user_id'].agg({'user_id':np.size})"
   ]
  },
  {
   "cell_type": "code",
   "execution_count": null,
   "metadata": {},
   "outputs": [],
   "source": [
    "#lastN=dfm.get_lastNitem_embedding(vectorizer,retriever,user_log)\n",
    "#user_embedding=dfm.get_user_embedding(vectorizer,retriever,rank_data)\n",
    "#item_embedding=dfm.get_item_embedding(vectorizer,retriever,rank_data)"
   ]
  },
  {
   "cell_type": "code",
   "execution_count": null,
   "metadata": {},
   "outputs": [],
   "source": [
    "#cross validation and obtain the optimal ranker model\n",
    "#model=dfm.cross_validation(X,y,epochs=8)\n",
    "#model.save('DeepFM')"
   ]
  },
  {
   "cell_type": "code",
   "execution_count": null,
   "metadata": {},
   "outputs": [],
   "source": [
    "#tensorboard and early stopping callbacks\n",
    "#tensorboard=tf.keras.callbacks.TensorBoard(log_dir='E:\\\\Tensorboard\\\\DeepFM\\\\',write_graph=True)\n",
    "#earlystopping=tf.keras.callbacks.EarlyStopping(monitor='val_loss',verbose=1,patience=3,mode='min',restore_best_weights=True)"
   ]
  },
  {
   "cell_type": "code",
   "execution_count": null,
   "metadata": {},
   "outputs": [],
   "source": [
    "'''get retrieval for all historical user\n",
    "user_log=pd.read_csv('D:\\\\Github\\\\dataset\\\\user_log.csv',usecols=[1,2,3,4,5,6])\n",
    "items=np.load('items.npy',allow_pickle=True)\n",
    "rank_df=[]\n",
    "users=user_log[['user_id','user_type','member_type']].drop_duplicates()\n",
    "t0=datetime.datetime.now()\n",
    "for tup in zip(users['user_id'],users['user_type'],users['member_type']):\n",
    "    user=dict()\n",
    "    user_item=dict()\n",
    "    user.setdefault('user_id',np.array([tup[0]]))\n",
    "    user.setdefault('user_type',np.array([tup[1]]))\n",
    "    user.setdefault('member_type',np.array([tup[2]]))\n",
    "    log=user_log.loc[user_log['user_id']==tup[0],['user_id','item_id','item_catalog']]\n",
    "    user_item.update(user)\n",
    "    user_item.update(items.all())\n",
    "    res=dfm.guess_you_like(retrieval,prep,user_item,json_like=False,topK=36)\n",
    "    res=res.merge(log.drop_duplicates(),on=['user_id','item_id'],how='left')\n",
    "    rank_df.append(res)\n",
    "    \n",
    "rank_df=pd.concat(rank_df,axis=0)\n",
    "rank_train=rank_df.rename(columns={'item_catalog_x':'item_catalog','score':'similarity','item_catalog_y':'label'}).drop(columns='rank')\n",
    "rank_train['label']=rank_train['label'].apply(lambda x: 0 if pd.isna(x) else 1)\n",
    "t1=datetime.datetime.now()\n",
    "print('retrieve in '+str(t1-t0))\n",
    "'''"
   ]
  },
  {
   "cell_type": "code",
   "execution_count": null,
   "metadata": {},
   "outputs": [],
   "source": [
    "#train item2vec model\n",
    "'''\n",
    "X=pd.read_csv('item_feature.csv')\n",
    "X=X.dropna()\n",
    "y=X.pop('label').values\n",
    "X=X.to_dict(orient='list')\n",
    "for key in X.keys():\n",
    "    X[key]=np.array(X[key])\n",
    "model=dfm.Item2vec(X)\n",
    "model.compile(optimizer=tf.keras.optimizers.Adam(0.05),loss=tf.keras.losses.BinaryCrossentropy(),metrics=[tf.keras.metrics.Recall(),tf.keras.metrics.AUC(),tf.keras.metrics.Accuracy()])\n",
    "model.fit(X,y,epochs=20,verbose=2)\n",
    "'''\n",
    "#model.save('item2vec')"
   ]
  },
  {
   "cell_type": "code",
   "execution_count": null,
   "metadata": {},
   "outputs": [],
   "source": [
    "#load item2vec model\n",
    "#calculate item similarity\n",
    "'''\n",
    "item_features=pd.read_csv('item_profile.csv')\n",
    "model=tf.keras.models.load_model('item2vec')\n",
    "writer=pd.ExcelWriter('sim.xlsx')\n",
    "for item in item_features['item_id'].unique():\n",
    "    sim=dfm.get_similar_items(model,item_features,item_id=item)\n",
    "    name=item_features.loc[item_features['item_id']==item,'item_name'].reset_index(drop=True)\n",
    "    item_id=[]\n",
    "    cos=[]\n",
    "    for key,value in sim['item_list'].items():\n",
    "        item_id.append(key)\n",
    "        cos.append(value)\n",
    "    dat=pd.DataFrame({'item_id':item_id,'sim':cos}).merge(item_features,on='item_id',how='inner').loc[:,['item_id','item_name','sim']]\n",
    "    dat.to_excel(excel_writer=writer,sheet_name=name[0],index=False)\n",
    "writer.save()\n",
    "writer.close()\n",
    "'''"
   ]
  },
  {
   "cell_type": "code",
   "execution_count": null,
   "metadata": {},
   "outputs": [],
   "source": [
    "#write item vectors to tsv file for tensorflow projector\n",
    "'''\n",
    "weights=item_model.get_layer('id_embedding_layer').get_weights()[0]\n",
    "vocab=item_model.get_layer('id_vectorize').get_vocabulary()\n",
    "out_v=io.open('vecs.tsv','w',encoding='utf-8')\n",
    "out_m=io.open('meta.tsv','w',encoding='utf-8')\n",
    "for index,word in enumerate(vocab):\n",
    "    if index==0:continue\n",
    "    vec=weights[index]\n",
    "    out_v.write('\\t'.join([str(x) for x in vec])+'\\n')\n",
    "    out_m.write(word+'\\n')\n",
    "out_v.close()\n",
    "out_m.close()\n",
    "'''"
   ]
  }
 ]
}